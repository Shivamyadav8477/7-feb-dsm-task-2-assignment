{
 "cells": [
  {
   "cell_type": "code",
   "execution_count": null,
   "id": "186155c9-d580-4128-8f4d-e7ef66b236a2",
   "metadata": {},
   "outputs": [],
   "source": [
    "Q1 -"
   ]
  },
  {
   "cell_type": "code",
   "execution_count": 1,
   "id": "c70c4ef3-b24e-429a-8226-653545357e91",
   "metadata": {},
   "outputs": [
    {
     "name": "stdout",
     "output_type": "stream",
     "text": [
      "Invalid Password\n",
      "Invalid Password\n",
      "Invalid Password\n",
      "Invalid Password\n",
      "Invalid Password\n",
      "Invalid Password\n",
      "Invalid Password\n"
     ]
    }
   ],
   "source": [
    "import re\n",
    "\n",
    "def is_valid_password(password):\n",
    "    if len(password) != 10:\n",
    "        return \"Invalid Password\"\n",
    "\n",
    "    uppercase_count = sum(1 for char in password if char.isupper())\n",
    "    lowercase_count = sum(1 for char in password if char.islower())\n",
    "\n",
    "    if uppercase_count >= 2 and lowercase_count >= 2:\n",
    "\n",
    "        if re.search(r'\\d', password) and re.search(r'[!@#$%^&*]', password):\n",
    "            special_char_count = sum(1 for char in password if char in '!@#$%^&*')\n",
    "            if special_char_count >= 3:\n",
    "                return \"Valid Password\"\n",
    "\n",
    "    return \"Invalid Password\"\n",
    "\n",
    "print(is_valid_password(\"Abcdefg123@\")) \n",
    "print(is_valid_password(\"Pass@word12\"))  \n",
    "print(is_valid_password(\"Abcdefg123\"))  \n",
    "print(is_valid_password(\"ABCDEFG123@\"))  \n",
    "print(is_valid_password(\"abcdefg123@\")) \n",
    "print(is_valid_password(\"Abc@1234567\")) \n",
    "print(is_valid_password(\"Abcdefg@\"))    \n"
   ]
  },
  {
   "cell_type": "code",
   "execution_count": null,
   "id": "c9b964bd-6660-4c3d-a6ae-e1af30e1757b",
   "metadata": {},
   "outputs": [],
   "source": [
    "Q2 -"
   ]
  },
  {
   "cell_type": "code",
   "execution_count": null,
   "id": "e80d6dbf-1614-4271-8d6e-0bb33a030bf1",
   "metadata": {},
   "outputs": [],
   "source": [
    "1-Check if the string starts with a particular letter:"
   ]
  },
  {
   "cell_type": "code",
   "execution_count": 2,
   "id": "f3c3705f-5dae-44d5-8a9a-c00c1fc4c532",
   "metadata": {},
   "outputs": [
    {
     "name": "stdout",
     "output_type": "stream",
     "text": [
      "['banana']\n"
     ]
    }
   ],
   "source": [
    "\n",
    "strings_list = [\"apple\", \"banana\", \"cherry\", \"orange\"]\n",
    "start_letter = \"b\"\n",
    "result = [string for string in strings_list if string.startswith(start_letter)]\n",
    "print(result) \n"
   ]
  },
  {
   "cell_type": "code",
   "execution_count": null,
   "id": "32804188-eab0-49c8-a3b7-aac8482c586a",
   "metadata": {},
   "outputs": [],
   "source": [
    "2-Check if the string is numeric:"
   ]
  },
  {
   "cell_type": "code",
   "execution_count": 3,
   "id": "eb8df525-33c3-4e44-bdc7-28c874d51956",
   "metadata": {},
   "outputs": [
    {
     "name": "stdout",
     "output_type": "stream",
     "text": [
      "['123', '456', '789']\n"
     ]
    }
   ],
   "source": [
    "\n",
    "strings_list = [\"123\", \"abc\", \"456\", \"789\"]\n",
    "is_numeric = lambda s: s.isnumeric()\n",
    "result = [string for string in strings_list if is_numeric(string)]\n",
    "print(result)  \n"
   ]
  },
  {
   "cell_type": "code",
   "execution_count": 5,
   "id": "599f8a1c-e6e8-44ca-9821-db2688dfe958",
   "metadata": {},
   "outputs": [
    {
     "name": "stdout",
     "output_type": "stream",
     "text": [
      "[('orange', 80), ('mango', 99), ('grapes', 1000)]\n"
     ]
    }
   ],
   "source": [
    "\n",
    "fruits_list = [(\"mango\", 99), (\"orange\", 80), (\"grapes\", 1000)]\n",
    "fruits_list.sort(key=lambda x: x[1])\n",
    "print(fruits_list) \n"
   ]
  },
  {
   "cell_type": "code",
   "execution_count": null,
   "id": "a88a436d-050f-480b-bd59-1f639e2f38c9",
   "metadata": {},
   "outputs": [],
   "source": [
    "# Using Lambda function and List Comprehension\n",
    "numbers = list(range(1, 11))\n",
    "squares = list(map(lambda x: x ** 2, numbers))\n",
    "print(squares)  # Output: [1, 4, 9, 16, 25, 36, 49, 64, 81, 100]\n"
   ]
  }
 ],
 "metadata": {
  "kernelspec": {
   "display_name": "Python 3 (ipykernel)",
   "language": "python",
   "name": "python3"
  },
  "language_info": {
   "codemirror_mode": {
    "name": "ipython",
    "version": 3
   },
   "file_extension": ".py",
   "mimetype": "text/x-python",
   "name": "python",
   "nbconvert_exporter": "python",
   "pygments_lexer": "ipython3",
   "version": "3.10.6"
  }
 },
 "nbformat": 4,
 "nbformat_minor": 5
}
